{
 "cells": [
  {
   "cell_type": "markdown",
   "metadata": {},
   "source": [
    "# Machine Learning/ Deep Learning + Internet of Things + Social Media of Things"
   ]
  },
  {
   "cell_type": "markdown",
   "metadata": {
    "id": "EjFSvVqe9U-w"
   },
   "source": [
    "# Send whatsapp, telegram message, SMS, mail and launch instance, volume by recognising your Face."
   ]
  },
  {
   "cell_type": "markdown",
   "metadata": {
    "id": "enTCpPM79U-y"
   },
   "source": [
    "\n",
    "# Step 1 - Create Training Data"
   ]
  },
  {
   "cell_type": "code",
   "execution_count": 1,
   "metadata": {
    "id": "wbnQwrsl9U-z"
   },
   "outputs": [
    {
     "name": "stderr",
     "output_type": "stream",
     "text": [
      "<>:15: SyntaxWarning: \"is\" with a literal. Did you mean \"==\"?\n",
      "<>:15: SyntaxWarning: \"is\" with a literal. Did you mean \"==\"?\n",
      "<ipython-input-1-0b9a552b0eb8>:15: SyntaxWarning: \"is\" with a literal. Did you mean \"==\"?\n",
      "  if faces is ():\n"
     ]
    },
    {
     "name": "stdout",
     "output_type": "stream",
     "text": [
      "Collecting Samples Complete\n"
     ]
    }
   ],
   "source": [
    "import cv2\n",
    "import numpy as np\n",
    "\n",
    "# Load HAAR face classifier\n",
    "face_classifier = cv2.CascadeClassifier('haarcascade_frontalface_default.xml')\n",
    "\n",
    "# Load functions\n",
    "def face_extractor(img):\n",
    "    # Function detects faces and returns the cropped face\n",
    "    # If no face detected, it returns the input image\n",
    "    \n",
    "    gray = cv2.cvtColor(img,cv2.COLOR_BGR2GRAY)\n",
    "    faces = face_classifier.detectMultiScale(gray, 1.3, 5)\n",
    "    \n",
    "    if faces is ():\n",
    "        return None\n",
    "    \n",
    "    # Crop all faces found\n",
    "    for (x,y,w,h) in faces:\n",
    "        cropped_face = img[y:y+h, x:x+w]\n",
    "\n",
    "    return cropped_face\n",
    "\n",
    "# Initialize Webcam\n",
    "cap = cv2.VideoCapture(0)\n",
    "count = 0\n",
    "\n",
    "# Collect 100 samples of your face from webcam input\n",
    "while True:\n",
    "\n",
    "    ret, frame = cap.read()\n",
    "    if face_extractor(frame) is not None:\n",
    "        count += 1\n",
    "        face = cv2.resize(face_extractor(frame), (200, 200))\n",
    "        face = cv2.cvtColor(face, cv2.COLOR_BGR2GRAY)\n",
    "\n",
    "        # Save file in specified directory with unique name\n",
    "        file_name_path = './faces/user/' + str(count) + '.jpg'\n",
    "        cv2.imwrite(file_name_path, face)\n",
    "\n",
    "        # Put count on images and display live count\n",
    "        cv2.putText(face, str(count), (50, 50), cv2.FONT_HERSHEY_COMPLEX, 1, (255,255,255), 2)\n",
    "        cv2.imshow('Face Cropper', face)\n",
    "        \n",
    "    else:\n",
    "        print(\"Face not found\")\n",
    "        pass\n",
    "\n",
    "    if cv2.waitKey(1) == 13 or count == 200: #13 is the Enter Key\n",
    "        break\n",
    "        \n",
    "cap.release()\n",
    "cv2.destroyAllWindows()      \n",
    "print(\"Collecting Samples Complete\")"
   ]
  },
  {
   "cell_type": "markdown",
   "metadata": {
    "id": "SIvBjd0a9U-1"
   },
   "source": [
    "# Step 2 - Train Model"
   ]
  },
  {
   "cell_type": "code",
   "execution_count": 2,
   "metadata": {
    "id": "MGD8SDS09U-1"
   },
   "outputs": [],
   "source": [
    "cap.release()"
   ]
  },
  {
   "cell_type": "code",
   "execution_count": 3,
   "metadata": {
    "id": "JnvLgeDN9U-2",
    "outputId": "cbe9827c-5472-49f7-d8a9-f4bbf3546fbb"
   },
   "outputs": [
    {
     "name": "stdout",
     "output_type": "stream",
     "text": [
      "Model trained sucessefully\n"
     ]
    }
   ],
   "source": [
    "import cv2\n",
    "import numpy as np\n",
    "from os import listdir\n",
    "from os.path import isfile, join\n",
    "\n",
    "# Get the training data we previously made\n",
    "data_path = './faces/user/'\n",
    "onlyfiles = [f for f in listdir(data_path) if isfile(join(data_path, f))]\n",
    "\n",
    "# Create arrays for training data and labels\n",
    "Training_Data, Labels = [], []\n",
    "\n",
    "# Open training images in our datapath\n",
    "# Create a numpy array for training data\n",
    "for i, files in enumerate(onlyfiles):\n",
    "    image_path = data_path + onlyfiles[i]\n",
    "    images = cv2.imread(image_path, cv2.IMREAD_GRAYSCALE)\n",
    "    Training_Data.append(np.asarray(images, dtype=np.uint8))\n",
    "    Labels.append(i)\n",
    "\n",
    "# Create a numpy array for both training data and labels\n",
    "Labels = np.asarray(Labels, dtype=np.int32)\n",
    "\n",
    "# Initialize facial recognizer\n",
    "# model = cv2.face.createLBPHFaceRecognizer()\n",
    "# NOTE: For OpenCV 3.0 use cv2.face.createLBPHFaceRecognizer()\n",
    "# pip install opencv-contrib-python\n",
    "# model = cv2.createLBPHFaceRecognizer()\n",
    "\n",
    "model  = cv2.face_LBPHFaceRecognizer.create()\n",
    "# Let's train our model \n",
    "model.train(np.asarray(Training_Data), np.asarray(Labels))\n",
    "print(\"Model trained sucessefully\")\n"
   ]
  },
  {
   "cell_type": "markdown",
   "metadata": {
    "id": "mcCFtvQp9U-2"
   },
   "source": [
    "# Step 3 - Run Our Facial Recognition"
   ]
  },
  {
   "cell_type": "markdown",
   "metadata": {},
   "source": [
    "## How this program works :-\n",
    "\n",
    "Case 1:-\n",
    "    If model recognises my face then this program will send whatsapp message, telegram message, mail, SMS to me\n",
    "\n",
    "Case 2:-\n",
    "    If model recognises another face then program will launch the EC2 instance, EBS volume and attach EBS volume with EC2 instance\n",
    "\n",
    "Case 3:-\n",
    "    If there is no faces then it will print \"No face found, looking for face\""
   ]
  },
  {
   "cell_type": "code",
   "execution_count": 7,
   "metadata": {},
   "outputs": [
    {
     "name": "stderr",
     "output_type": "stream",
     "text": [
      "<>:19: SyntaxWarning: \"is\" with a literal. Did you mean \"==\"?\n",
      "<>:19: SyntaxWarning: \"is\" with a literal. Did you mean \"==\"?\n",
      "<ipython-input-7-5b1bf2c5c161>:19: SyntaxWarning: \"is\" with a literal. Did you mean \"==\"?\n",
      "  if faces is ():\n"
     ]
    },
    {
     "name": "stdout",
     "output_type": "stream",
     "text": [
      "Ec2 instance created\n",
      "Volume created\n",
      " 5 GB Volume attached to instance\n"
     ]
    }
   ],
   "source": [
    "# importing all the important libraries\n",
    "import cv2\n",
    "import numpy as np\n",
    "import os\n",
    "from boltiot import Email, Sms, Bolt\n",
    "import json, time\n",
    "import requests\n",
    "from twilio.rest import Client\n",
    "\n",
    "# using haarcascade frontal face algorithm to detect face\n",
    "face_classifier = cv2.CascadeClassifier('haarcascade_frontalface_default.xml')\n",
    "\n",
    "# function to detect the face\n",
    "def face_detector(img, size=0.5):\n",
    "    \n",
    "    # Convert image to grayscale\n",
    "    gray = cv2.cvtColor(img,cv2.COLOR_BGR2GRAY)\n",
    "    faces = face_classifier.detectMultiScale(gray, 1.3, 5)\n",
    "    if faces is ():\n",
    "        return img, []\n",
    "    \n",
    "    for (x,y,w,h) in faces:\n",
    "        cv2.rectangle(img,(x,y),(x+w,y+h),(0,255,255),2)\n",
    "        roi = img[y:y+h, x:x+w]\n",
    "        roi = cv2.resize(roi, (200, 200))\n",
    "    return img, roi\n",
    "\n",
    "\n",
    "NAME = \"Bhavesh Sonewale\"\n",
    "\n",
    "\n",
    "# function for sending SMS\n",
    "def sms():\n",
    "    SID = \"#######################################\"\n",
    "    AUTH_TOKEN = \"###################################\"\n",
    "    FROM_NUMBER = +18029#######\n",
    "    TO_NUMBER = +9193597#####\n",
    "    \n",
    "    sms = Sms(SID, AUTH_TOKEN, TO_NUMBER, FROM_NUMBER)\n",
    "    \n",
    "    print(\"Making request to Twilio to send a SMS\")\n",
    "    response = sms.send_sms(\"Face detected, This is face of \" + NAME)\n",
    "    print(\"Response received from Twilio is: \" + str(response))\n",
    "    print(\"Status of SMS at Twilio is :\" + str(response.status))\n",
    "\n",
    "    \n",
    "    \n",
    "# function for sending Mail\n",
    "def mail():\n",
    "    MAILGUN_API_KEY =  \"5537e535###########################\"\n",
    "    SANDBOX_URL= \"sandboxd87c############################.mailgun.org\" \n",
    "    SENDER_EMAIL = 'Face_Detector@' + SANDBOX_URL\n",
    "    RECIPIENT_EMAIL = 'bhaveshssonewale@gmail.com'\n",
    "    \n",
    "    mailer = Email(MAILGUN_API_KEY, SANDBOX_URL, SENDER_EMAIL, RECIPIENT_EMAIL)\n",
    "    \n",
    "    print(\"Making request to Mailgun to send an email\")\n",
    "    response = mailer.send_email(\"Your Face detected\", \"This is face of \" + NAME )\n",
    "    response_text = json.loads(response.text)\n",
    "    print(\"Response received from Mailgun is: \" + str(response_text['message']))\n",
    "\n",
    "    \n",
    "\n",
    "# function for sending messages via Telegram\n",
    "def telegram():\n",
    "    telegram_bot_id = \"bot1861484724:AAFsX#############################\"\n",
    "    telegram_chat_id = \"@face_det###########\"\n",
    "    \n",
    "    url = \"https://api.telegram.org/\" + telegram_bot_id + \"/sendMessage\"\n",
    "    telegram_message = \"Face Detected, this is face of \" + NAME\n",
    "    data = {\n",
    "        \"chat_id\": telegram_chat_id,\n",
    "        \"text\": telegram_message\n",
    "    }\n",
    "    \n",
    "    response = requests.request(\n",
    "        \"POST\",\n",
    "        url,\n",
    "        params=data\n",
    "    )\n",
    "    \n",
    "    print(\"This is the Telegram URL\")\n",
    "    print(url)\n",
    "    print(\"This is the Telegram response\")\n",
    "    print(response.text)\n",
    "    telegram_data = json.loads(response.text)\n",
    "    \n",
    "    \n",
    "    \n",
    "def whatsapp():\n",
    "    SID = \"AC0ced938e3765b###########################\"\n",
    "    AUTH_TOKEN = \"111bd36dc##########################\"\n",
    "    FROM_NUMBER = +180299#####\n",
    "    TO_NUMBER = +9193597#####\n",
    "    \n",
    "    client = Client(SID, AUTH_TOKEN) \n",
    "    \n",
    "    whatsapp_message = client.messages.create( \n",
    "        from_='whatsapp:+141552#####',  \n",
    "        body='Face Detected, this is face of '+ NAME,\n",
    "        to='whatsapp:'+ str(TO_NUMBER)\n",
    "    )\n",
    "    print(whatsapp_message.sid)\n",
    "    print(\"message sent\")\n",
    "    \n",
    "    \n",
    "    \n",
    "# function to launch EC2 instance, EBS volume and to attach EBS volume with EC2 instance\n",
    "def aws():\n",
    "    os.system(\"terraform init\")\n",
    "    os.system(\"terraform apply --auto-approve\")\n",
    "    print(\"Ec2 instance created\\nVolume created\\n 5 GB Volume attached to instance\")\n",
    "    \n",
    "    \n",
    "    \n",
    "# function for buzzing the buzzer\n",
    "def buzzer():\n",
    "    API_KEY = '41b0303d-4e04-43b1-ac###################'\n",
    "    DEVICE_ID = 'BOLT##########'\n",
    "    \n",
    "    mybolt = Bolt(API_KEY, DEVICE_ID)\n",
    "    \n",
    "    buzzer_response = mybolt.digitalWrite(0,'HIGH')\n",
    "    time.sleep(5) # for buzzing the buzzer till 5 sec\n",
    "    buzzer_response = mybolt.digitalWrite(0,'LOW')\n",
    "    \n",
    "    \n",
    "    \n",
    "# Open Webcam\n",
    "cap = cv2.VideoCapture(0)\n",
    "\n",
    "\n",
    "\n",
    "# \n",
    "while True:\n",
    "    ret, frame = cap.read()\n",
    "    \n",
    "    image, face = face_detector(frame)\n",
    "    \n",
    "    try:\n",
    "        face = cv2.cvtColor(face, cv2.COLOR_BGR2GRAY)\n",
    "        # Pass face to prediction model\n",
    "        # \"results\" comprises of a tuple containing the label and the confidence value\n",
    "        results = model.predict(face)\n",
    "        # harry_model.predict(face)\n",
    "        \n",
    "        \n",
    "        if results[1] < 500:\n",
    "            confidence = int( 100 * (1 - (results[1])/400) )\n",
    "            display_string = str(confidence) + '% Confident it is User'\n",
    "            \n",
    "            \n",
    "        cv2.putText(image, display_string, (100, 120), cv2.FONT_HERSHEY_COMPLEX, 1, (255,120,150), 2)\n",
    "    \n",
    "    \n",
    "        if confidence > 90:\n",
    "            cv2.putText(image, \"Hey Bhavesh\", (250, 450), cv2.FONT_HERSHEY_COMPLEX, 1, (0,255,0), 2)\n",
    "            cv2.imshow('Face Recognition', image )\n",
    "            \n",
    "            #os.system(\"chrome https://www.google.com/search?q=vimal+daga\")\n",
    "            #os.system(\"notepad\")\n",
    "            \n",
    "            sms()\n",
    "            mail()\n",
    "            telegram()\n",
    "            whatsapp()\n",
    "           \n",
    "            break\n",
    "         \n",
    "        else:\n",
    "            cv2.putText(image, \"I dont know, who are you ?\", (250, 450), cv2.FONT_HERSHEY_COMPLEX, 1, (0,0,255), 2)\n",
    "            cv2.imshow('Face Recognition', image )\n",
    "            \n",
    "            #os.system(\"cd C:/Users/Asus/Desktop/10-06-2021/Face Recognition\")\n",
    "            #os.system(\"notepad\")\n",
    "            \n",
    "            aws()\n",
    "            buzzer()\n",
    "            \n",
    "            break\n",
    "    \n",
    "    except:\n",
    "        cv2.putText(image, \"No Face Found\", (220, 120) , cv2.FONT_HERSHEY_COMPLEX, 1, (0,0,255), 2)\n",
    "        cv2.putText(image, \"looking for face\", (250, 450), cv2.FONT_HERSHEY_COMPLEX, 1, (0,0,255), 2)\n",
    "        cv2.imshow('Face Recognition', image )\n",
    "        pass\n",
    "    \n",
    "    \"\"\"         \n",
    "    except Exception as e: \n",
    "        print (\"Error occured: Below are the details\")\n",
    "        print (e)\n",
    "    \"\"\"\n",
    "    \n",
    "    if cv2.waitKey(10) == 13: #13 is the Enter Key\n",
    "        break\n",
    "\n",
    "cap.release()\n",
    "cv2.destroyAllWindows()"
   ]
  },
  {
   "cell_type": "code",
   "execution_count": null,
   "metadata": {},
   "outputs": [],
   "source": []
  }
 ],
 "metadata": {
  "colab": {
   "name": "Face Recognition – Unlock Your Computer With Your Face.ipynb",
   "provenance": []
  },
  "kernelspec": {
   "display_name": "Python 3",
   "language": "python",
   "name": "python3"
  },
  "language_info": {
   "codemirror_mode": {
    "name": "ipython",
    "version": 3
   },
   "file_extension": ".py",
   "mimetype": "text/x-python",
   "name": "python",
   "nbconvert_exporter": "python",
   "pygments_lexer": "ipython3",
   "version": "3.8.3"
  }
 },
 "nbformat": 4,
 "nbformat_minor": 1
}
